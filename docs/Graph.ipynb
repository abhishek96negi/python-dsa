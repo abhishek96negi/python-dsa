{
 "cells": [
  {
   "cell_type": "markdown",
   "id": "623c1eb9-d7fc-4b3f-af23-8e2d257f30ed",
   "metadata": {},
   "source": [
    "* A Graph consists of two things\n",
    "* A set `V` of elements called nodes.\n",
    "* A set `E` of edges such that each edge e in E is identified with a unique(unordered) pair `[u,v]` of nodes `V`, denoted by `e=[u,v]`\n",
    "* We indicate the parts of the graph by writing `G=(V,E)`"
   ]
  },
  {
   "cell_type": "markdown",
   "id": "d7879224-5a88-49cf-ac59-1cbf008cf06a",
   "metadata": {},
   "source": [
    "## Adjacent nodes\n",
    "\n",
    "* If `e=[u,v]`, then u and v are called adjacent nodes or neighbors.\n",
    "\n",
    "     u_________________________v"
   ]
  },
  {
   "cell_type": "markdown",
   "id": "ad3556db-34e6-4678-8ea6-7495efacc1e1",
   "metadata": {},
   "source": [
    "## Degree of nodes\n",
    "\n",
    "* The degree of node u, written `deg(u)`, is the number of edges containing `u`.\n",
    "* If `deg(u) = 0`, then `u` is called isolated node."
   ]
  },
  {
   "cell_type": "markdown",
   "id": "147befce-c89e-442f-91df-50027cf0ccc9",
   "metadata": {},
   "source": [
    "## Path\n",
    "* A path of length `n` from a node `u` to a node `v` is defined as a sequence of `n+1 nodes.\n",
    "* `P = (V0, V1, V2, .... Vn)`\n",
    "* The path is said to be closed if `Vo = Vn`"
   ]
  },
  {
   "cell_type": "markdown",
   "id": "341b6c85-b241-48d1-9754-b1455f82d692",
   "metadata": {},
   "source": [
    "## Simple and Complex Path\n",
    "\n",
    "* The path is said to be simple if all the nodes are distinct, with the exception that `Vo` may equal to `Vn` otherwise it is complex path.\n",
    "![graph.png](../static/image/graph.jpg)"
   ]
  },
  {
   "cell_type": "markdown",
   "id": "cca8a05e-72f3-4dba-8266-bb47e2bb234a",
   "metadata": {},
   "source": [
    "## Connected Graph\n",
    "* A graph is said to be connected if there is a path between any two of its nodes."
   ]
  },
  {
   "cell_type": "markdown",
   "id": "ee4038f3-05db-426a-ab34-2a417e087844",
   "metadata": {},
   "source": [
    "## Tree Graph\n",
    "* A connected graph `T` without any cycles is called a `tree graph` or `free tree`, or simply a `tree`.\n",
    "* THis means in particular, that there is a unique simple path `p` between any two nodes `u` and `v`."
   ]
  },
  {
   "cell_type": "markdown",
   "id": "c2cf77e9-32c0-426f-9041-818c58309a90",
   "metadata": {},
   "source": [
    "## Labelled Graph\n",
    "* A graph is to be labelled if its edges are assigned data."
   ]
  },
  {
   "cell_type": "markdown",
   "id": "081fb4ca-8c38-4e60-8798-ccbc8c87cb0c",
   "metadata": {},
   "source": [
    "## Weighted Graph\n",
    "* A graph `G` is said to be weighted if each edge `e` in `G` is assigned a non-negative numerical value `w(e) called the weight or length of `e`."
   ]
  },
  {
   "cell_type": "markdown",
   "id": "023f4863-4fc4-4ba7-9018-776bc9418775",
   "metadata": {},
   "source": [
    "## Multiple edges\n",
    "* Distinct edges e and e' are called multiple edges if they connect the same end points, that is , if `e=[u,v]` and `e' = [u,v]`."
   ]
  },
  {
   "cell_type": "markdown",
   "id": "208c610e-2809-4679-be16-f7a9e3d6be3a",
   "metadata": {},
   "source": [
    "## Loop\n",
    "* An edge is called loop if it has identical end points."
   ]
  },
  {
   "cell_type": "markdown",
   "id": "54732e6a-7405-4485-b376-a6723003eafd",
   "metadata": {},
   "source": [
    "## Multi- Graph\n",
    "* Multi-Graph is a graph consisting of multiple edges and loops."
   ]
  },
  {
   "cell_type": "markdown",
   "id": "25194802-51aa-40f0-a161-6b91d33c39fb",
   "metadata": {},
   "source": [
    "## Directed Graph\n",
    "* A directed graph `G` also called di-graph is same as multi-graph execpt that each edge `e` is assigned a direction."
   ]
  },
  {
   "cell_type": "markdown",
   "id": "4cdc414e-2207-45c7-af34-4719fbcf27b8",
   "metadata": {},
   "source": [
    "## Complete Graph\n",
    "* A simple graph in which there exists an edge between every pair of vertices is called a complete graph.\n",
    "* It is also known as a universal graph or clique."
   ]
  },
  {
   "cell_type": "markdown",
   "id": "2f62c972-fcea-4dbc-8af2-09e5e2e4bd41",
   "metadata": {},
   "source": [
    "## Adjacency Matrix Representation.\n",
    "* Suppose `G` is a simple graph with `m` nodes, and suppose the nodes of `G` have been ordered and are called `v1, v2, v3 .... vm`. Then the adjacency matrix `A = (aij)` of the graph `G` is the `m*m` matrix."
   ]
  },
  {
   "cell_type": "markdown",
   "id": "8491bb63-5b85-4060-9175-618d2be84952",
   "metadata": {},
   "source": [
    "## Adjacency List Representation.\n",
    "* The adjacency list stores information about only those edges that exists.\n",
    "* The adjacency list contains a directory (dict) containing adjacency list for each vertex."
   ]
  }
 ],
 "metadata": {
  "kernelspec": {
   "display_name": "Python 3 (ipykernel)",
   "language": "python",
   "name": "python3"
  },
  "language_info": {
   "codemirror_mode": {
    "name": "ipython",
    "version": 3
   },
   "file_extension": ".py",
   "mimetype": "text/x-python",
   "name": "python",
   "nbconvert_exporter": "python",
   "pygments_lexer": "ipython3",
   "version": "3.10.14"
  }
 },
 "nbformat": 4,
 "nbformat_minor": 5
}
