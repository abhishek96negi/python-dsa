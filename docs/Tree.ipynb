{
 "cells": [
  {
   "cell_type": "markdown",
   "id": "93287eb5-d845-4f4f-802f-ab3d393f955e",
   "metadata": {},
   "source": [
    "A tree is defined as a finite set of one or more data items (nodes),such that:\n",
    "\n",
    "* There is a special node called the root node of the tree.\n",
    "* The remaining nodes are partitioned into n≥o disjoint subsets, each of which is itself a tree, and they arecalled subtrees.\n",
    "\n",
    "![tree_1](../static/image/tree1.png)"
   ]
  },
  {
   "cell_type": "markdown",
   "id": "ab7f4cd5-a4d1-4c9e-b4b0-80cabd4a1309",
   "metadata": {},
   "source": [
    "A tree is a non-linear data structure, which is used to represent hierarchical relationship existing among several data items."
   ]
  },
  {
   "cell_type": "markdown",
   "id": "417b2dfe-9932-46bb-acf2-f0755cab7175",
   "metadata": {},
   "source": [
    "## Degrees\n",
    "The number of subtrees of a node is called its degree.\n",
    "\n",
    "![tree_2](../static/image/tree2.png)"
   ]
  },
  {
   "cell_type": "markdown",
   "id": "8c0138c7-3e63-4508-96dc-6123f312217a",
   "metadata": {},
   "source": [
    "## Leaf Node\n",
    "* A node with degree zero is called leaf.\n",
    "* The leaf nodes are also called terminal nodes."
   ]
  },
  {
   "cell_type": "markdown",
   "id": "1611d70b-79c1-48d8-a58e-8036f511cf6f",
   "metadata": {},
   "source": [
    "### Parent-Children\n",
    "\n",
    "* If R is a root node and its subtrees are T1, T2, T3 and root of the subtrees are R1,R2,R3 then R1,R2,R3 are called children of R and R is called Parent of R1, R2, R3.\n",
    "\n",
    "\n",
    "![tree_3](../static/image/tree3.png)"
   ]
  },
  {
   "cell_type": "markdown",
   "id": "729a42bf-4d4a-46c6-af46-2d90d1795988",
   "metadata": {},
   "source": [
    "## Siblings & Degree of tree\n",
    "\n",
    "* Children of the same parent are called Siblings.\n",
    "* The degree of the tree is maximum degree of the nodes in the tree.\n",
    "\n",
    "![tree_4](../static/image/tree4.png)"
   ]
  },
  {
   "cell_type": "markdown",
   "id": "22e74e0a-36d4-46cc-8152-1c8891995db0",
   "metadata": {},
   "source": [
    "## Ancestors and Descendants\n",
    "\n",
    "* The ancestors of a node are all the nodes along the path from the root to that node.\n",
    "* The descendants of a node are all the nodes along the path from node to terminal node."
   ]
  },
  {
   "cell_type": "markdown",
   "id": "ea73f3c2-f590-46f7-a8ba-82357eb14dbd",
   "metadata": {},
   "source": [
    "## Level Number\n",
    "\n",
    "* Each node is assigned a level number\n",
    "* The root node of the tree is assigned a level number 0.\n",
    "* Every other node assign a level number which is one more than the level number of its parent.\n",
    "\n",
    "![tree_5](../static/image/tree5.png)"
   ]
  },
  {
   "cell_type": "markdown",
   "id": "600e021c-0bac-4bf7-b752-80a24f8b58de",
   "metadata": {},
   "source": [
    "## Generation\n",
    "* Nodes with the same level number are said to belong to the same generation."
   ]
  },
  {
   "cell_type": "markdown",
   "id": "007fef38-dd93-4bc7-8b49-7780eb181343",
   "metadata": {},
   "source": [
    "## Height or Depth\n",
    "\n",
    "* The height or depth of a tree is the maximum number of nodes in a branch.\n",
    "* A line drawn from a node to its children is called an edge.\n",
    "* Sequence of consecutive edges is called path.\n",
    "* Path ending in a leaf is called a branch."
   ]
  },
  {
   "cell_type": "markdown",
   "id": "9bf93601-88f6-48eb-b752-706b19f5d438",
   "metadata": {},
   "source": [
    "## Binary tree\n",
    "* A binary tree is defined as a finite\n",
    "set of elements, called nodes, such that\n",
    "- T is empty (called the Nulltree or empty tree), or\n",
    "- T contains a distinguished node R, called the root of T, and the remaining nodes of T form an ordered pair of disjoint binary trees T1 and T2.\n",
    "\n",
    "![tree_6](../static/image/tree6.png)\n",
    "\n",
    "* Any node in the binary tree has either 0, 1 or 2 chid nodes."
   ]
  },
  {
   "cell_type": "markdown",
   "id": "4ed9f78f-9838-4994-917d-64bd6536384d",
   "metadata": {},
   "source": [
    "## Complete Binary Tree\n",
    "\n",
    "* All levels are completely filled.\n",
    "\n",
    "![tree_7](../static/image/tree7.png)"
   ]
  },
  {
   "cell_type": "markdown",
   "id": "7e88ecd0-0db0-4764-a682-ef148939446e",
   "metadata": {},
   "source": [
    "## Almost Complete Binary Tree\n",
    "\n",
    "* All levels are completely filled, except possibly the last level and nodes in the last level are all left aligned.\n",
    "\n",
    "![tree_8](../static/image/tree8.png)\n",
    "![tree_9](../static/image/tree9.png)"
   ]
  },
  {
   "cell_type": "markdown",
   "id": "4eb3d146-9f41-4dc2-83d7-53faff48774a",
   "metadata": {},
   "source": [
    "## Strict Binary Tree\n",
    "* Each node of a strict Binary Tree will have either 0 or 2 Children.\n",
    "\n",
    "![tree_10](../static/image/tree10.png)"
   ]
  }
 ],
 "metadata": {
  "kernelspec": {
   "display_name": "Python 3 (ipykernel)",
   "language": "python",
   "name": "python3"
  },
  "language_info": {
   "codemirror_mode": {
    "name": "ipython",
    "version": 3
   },
   "file_extension": ".py",
   "mimetype": "text/x-python",
   "name": "python",
   "nbconvert_exporter": "python",
   "pygments_lexer": "ipython3",
   "version": "3.10.14"
  }
 },
 "nbformat": 4,
 "nbformat_minor": 5
}
